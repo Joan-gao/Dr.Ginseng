{
 "cells": [
  {
   "cell_type": "markdown",
   "metadata": {},
   "source": [
    "## Process"
   ]
  },
  {
   "cell_type": "code",
   "execution_count": null,
   "metadata": {},
   "outputs": [],
   "source": [
    "import json\n",
    "import random\n",
    "\n",
    "def transform_jsonl(input_file_path, output_file_path):\n",
    "    entries = []\n",
    "    with open(input_file_path, 'r') as file:\n",
    "        for line in file:\n",
    "            entry = json.loads(line)\n",
    "            entries.append(entry)\n",
    "\n",
    "    sampled_entries = random.sample(entries, 100)\n",
    "\n",
    "    with open(output_file_path, 'w') as outfile:\n",
    "        for entry in sampled_entries:\n",
    "            messages = []\n",
    "            messages.append({\"role\": \"system\", \"content\": \"You are an assistant that occasionally misspells words\"})\n",
    "            user_message = {\"role\": \"user\", \"content\": entry[\"questions\"]}\n",
    "            assistant_message = {\"role\": \"assistant\", \"content\": entry[\"answers\"]}\n",
    "            messages.extend([user_message, assistant_message])\n",
    "            result = {\"messages\": messages}\n",
    "            json.dump(result, outfile, ensure_ascii=False)\n",
    "            outfile.write('\\n')\n",
    "\n",
    "input_file_path = '/Users/lhj/AI/openai_cookbook/test_datasets.jsonl' # change the data source for fine tuning\n",
    "output_file_path = 'output.jsonl'\n",
    "transform_jsonl(input_file_path, output_file_path)"
   ]
  },
  {
   "cell_type": "markdown",
   "metadata": {},
   "source": [
    "## Upload File"
   ]
  },
  {
   "cell_type": "code",
   "execution_count": null,
   "metadata": {},
   "outputs": [],
   "source": [
    "import requests\n",
    "import openai\n",
    "\n",
    "url = \"https://api.openai.com/v1/files\"\n",
    "headers = {\n",
    "    \"Authorization\": \"Bearer $OPENAI_API_KEY\"\n",
    "}\n",
    "\n",
    "payload = {\n",
    "    \"purpose\": \"fine-tune\",\n",
    "}\n",
    "files = {\n",
    "    \"file\": open(\"output.jsonl\", \"rb\")\n",
    "}\n",
    "\n",
    "response = requests.post(url, headers=headers, data=payload, files=files)\n",
    "print(response)\n",
    "\n",
    "openai.api_key = \"API_KEY\"\n",
    "print(openai.File.list())"
   ]
  },
  {
   "cell_type": "markdown",
   "metadata": {},
   "source": [
    "## Fine Tune"
   ]
  },
  {
   "cell_type": "code",
   "execution_count": null,
   "metadata": {},
   "outputs": [],
   "source": [
    "import requests\n",
    "\n",
    "url = \"https://api.openai.com/v1/fine_tuning/jobs\"\n",
    "headers = {\n",
    "    \"Content-Type\": \"application/json\",\n",
    "    \"Authorization\": \"Bearer $OPENAI_API_KEY\"\n",
    "}\n",
    "data = {\n",
    "    \"training_file\": \"Choose the file id from previous steps\",\n",
    "    \"model\": \"gpt-3.5-turbo-0613\"\n",
    "}\n",
    "\n",
    "response = requests.post(url, headers=headers, json=data)\n",
    "print(response.text)"
   ]
  },
  {
   "cell_type": "markdown",
   "metadata": {},
   "source": [
    "## test"
   ]
  },
  {
   "cell_type": "code",
   "execution_count": null,
   "metadata": {},
   "outputs": [],
   "source": [
    "import requests\n",
    "\n",
    "url = \"https://api.openai.com/v1/chat/completions\"\n",
    "headers = {\n",
    "    \"Content-Type\": \"application/json\",\n",
    "    \"Authorization\": \"Bearer $OPENAI_API_KEY\"\n",
    "}\n",
    "data = {\n",
    "    \"model\": \"ft:gpt-3.5-turbo-0613:XXXXXXX\",\n",
    "    \"messages\": [\n",
    "        {\n",
    "            \"role\": \"system\",\n",
    "            \"content\": \"You are an assistant that occasionally misspells words\"\n",
    "        },\n",
    "        {\n",
    "            \"role\": \"user\",\n",
    "            \"content\": \"我在体检是正常的，但是去献血医生最是说我的血压高，不能献。血压是130、80这是为什么呢？\"\n",
    "        }\n",
    "    ]\n",
    "}\n",
    "\n",
    "response = requests.post(url, headers=headers, json=data)\n",
    "print(response['choices'][0]['text'])"
   ]
  }
 ],
 "metadata": {
  "language_info": {
   "name": "python"
  }
 },
 "nbformat": 4,
 "nbformat_minor": 2
}
